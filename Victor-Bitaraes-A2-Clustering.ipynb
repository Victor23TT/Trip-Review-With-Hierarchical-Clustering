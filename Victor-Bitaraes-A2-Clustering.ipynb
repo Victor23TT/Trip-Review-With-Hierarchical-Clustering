{
 "cells": [
  {
   "cell_type": "markdown",
   "id": "paperback-martial",
   "metadata": {},
   "source": [
    "# Clusterização em 10 dimensões\n",
    "\n",
    "A planilha 'tripadvisor_review.csv', obtida em https://archive.ics.uci.edu/ml/datasets/Travel+Reviews, apresenta dados de avaliações de destinos de viagens da Ásia Oriental, em dez categorias - notas variando de $0$ a $4$. O objetivo deste experimento é utilizar dois métodos de clusterização - **K-means** e **Hierarchical Clustering** - para visualizar os agrupamentos obtidos e tentar, com isso, extrair alguma informação relevante sobre esses dados.\n",
    "\n",
    "Utilizaremos a linguagem Python."
   ]
  },
  {
   "cell_type": "markdown",
   "id": "controversial-concrete",
   "metadata": {},
   "source": [
    "## Primeiro passo: importar os pacotes usuais"
   ]
  },
  {
   "cell_type": "code",
   "execution_count": 1,
   "id": "eleven-indicator",
   "metadata": {},
   "outputs": [],
   "source": [
    "import numpy as np\n",
    "import matplotlib.pyplot as plt\n",
    "import pandas as pd"
   ]
  },
  {
   "cell_type": "markdown",
   "id": "expired-reading",
   "metadata": {},
   "source": [
    "## Aplicando o método de clusterização K-means aos dados:\n",
    "\n",
    "Começamos por salvar no dataframe $X1$ abaixo as $10$ colunas relevantes para o método. A medida de dispersão dos dados em relação aos centróides de cada etapa do algoritmo será o **WCSS** - within-cluster sum of squares. Iremos observá-la para quantidades de clusteres de $1$ a $10$, e escolher a quantidade ideal de clusteres pelo **Elbow Method** - que consiste em observar para qual quantidade de clusteres o WCSS sofre a queda mais acentuada."
   ]
  },
  {
   "cell_type": "code",
   "execution_count": 2,
   "id": "turkish-ballet",
   "metadata": {},
   "outputs": [],
   "source": [
    "dataset1 = pd.read_csv('tripadvisor_review.csv')\n",
    "X1 = dataset1.iloc[:,1:].values\n",
    "wcss = [] # lista das 10 medidas de dispersão para as diferentes quantidades de clusteres"
   ]
  },
  {
   "cell_type": "markdown",
   "id": "entire-grass",
   "metadata": {},
   "source": [
    "O **k-means++** no código abaixo introduz no início do algoritmo, na escolha aleatória de centróides, um passo que impede a ocorrência da chamada \"initialization trap\" - um viés que pode acabar separando, em clusteres diferentes, dados que mais convenientemente terminariam juntos, ou vice-versa: classificar, no mesmo cluster, dados muito distantes.\n",
    "\n",
    "Aqui, a distância utilizada é a euclidiana. Provavelmente existem métricas mais convenientes para dez dimensões."
   ]
  },
  {
   "cell_type": "code",
   "execution_count": 3,
   "id": "outer-transcription",
   "metadata": {},
   "outputs": [],
   "source": [
    "from sklearn.cluster import KMeans\n",
    "\n",
    "for i in range(1,11):\n",
    "    kmeans = KMeans(n_clusters = i, init = 'k-means++', random_state=42)\n",
    "    kmeans.fit(X1)\n",
    "    wcss.append(kmeans.inertia_)"
   ]
  },
  {
   "cell_type": "markdown",
   "id": "developmental-currency",
   "metadata": {},
   "source": [
    "## Elbow Method\n",
    "\n",
    "Abaixo, podemos ver que a queda mais significativa do WCSS se dá na passagem de $n=1$ para $n=2$. Sob essa perspectiva, a melhor divisão se dá com **dois clusteres**."
   ]
  },
  {
   "cell_type": "code",
   "execution_count": 4,
   "id": "continuing-secret",
   "metadata": {},
   "outputs": [
    {
     "data": {
      "image/png": "[encoded data removed]",
      "text/plain": [
       "<Figure size 432x288 with 1 Axes>"
      ]
     },
     "metadata": {
      "needs_background": "light"
     },
     "output_type": "display_data"
    }
   ],
   "source": [
    "plt.plot(range(1,11), wcss)\n",
    "plt.title('The Elbow Method')\n",
    "plt.xlabel('Number of clusters')\n",
    "plt.ylabel('WCSS')\n",
    "plt.show()"
   ]
  },
  {
   "cell_type": "markdown",
   "id": "front-visitor",
   "metadata": {},
   "source": [
    "## Hierarchical Clustering\n",
    "\n",
    "Diferentemente do k-means clustering, que parte de uma escolha aleatória de um número arbitrário de centróides, o hierarchical clustering parte dos próprios dados, cada ponto sendo um cluster, e segue aglutinando os clusteres passo a passo, de acordo com alguma medida de distância - aqui, novamente, utilizaremos a distância euclidiana. O número conveniente de clusteres aparece no \"melhor corte\" do dendograma abaixo."
   ]
  },
  {
   "cell_type": "code",
   "execution_count": 5,
   "id": "buried-utility",
   "metadata": {},
   "outputs": [],
   "source": [
    "dataset2 = pd.read_csv('tripadvisor_review.csv')\n",
    "X2 = dataset2.iloc[:,1:].values"
   ]
  },
  {
   "cell_type": "code",
   "execution_count": 6,
   "id": "genetic-hebrew",
   "metadata": {},
   "outputs": [
    {
     "data": {
      "image/png": "[encoded data removed]",
      "text/plain": [
       "<Figure size 432x288 with 1 Axes>"
      ]
     },
     "metadata": {
      "needs_background": "light"
     },
     "output_type": "display_data"
    }
   ],
   "source": [
    "import scipy.cluster.hierarchy as sch\n",
    "\n",
    "dendrogram = sch.dendrogram(sch.linkage(X2, method='ward'))\n",
    "plt.title('Dendrograma')\n",
    "plt.xlabel('Clientes')\n",
    "plt.ylabel('Distância Euclidiana')\n",
    "plt.show()"
   ]
  },
  {
   "cell_type": "code",
   "execution_count": 7,
   "id": "isolated-better",
   "metadata": {},
   "outputs": [
    {
     "name": "stdout",
     "output_type": "stream",
     "text": [
      "[2 2 1 1 0 1 1 1 0 3 0 3 2 2 2 0 4 0 0 2 4 3 1 1 0 2 2 4 1 2 2 2 0 3 1 4 4\n",
      " 1 2 1 3 1 4 3 3 1 3 4 3 2 3 2 3 0 1 1 2 1 2 0 2 1 1 1 3 1 4 1 4 4 1 2 3 2\n",
      " 0 0 1 2 4 3 1 0 1 4 0 3 1 1 0 4 1 1 2 2 0 1 2 0 2 3 1 1 0 1 1 2 0 1 0 0 3\n",
      " 4 3 4 2 3 0 3 4 4 0 3 0 0 4 1 1 0 3 1 4 0 0 0 3 0 0 0 1 1 3 1 3 1 1 3 3 2\n",
      " 0 0 3 3 1 3 3 4 3 1 0 4 4 1 3 4 4 1 2 0 2 4 3 1 1 1 1 3 3 4 1 1 1 0 0 4 2\n",
      " 3 3 1 0 1 2 2 1 3 3 1 4 2 4 0 2 3 2 1 4 1 3 1 4 1 4 2 3 1 1 0 1 4 0 2 3 4\n",
      " 0 1 2 3 0 4 3 2 1 0 1 1 0 3 0 3 0 1 2 0 3 3 1 4 1 0 1 3 0 1 2 2 1 3 1 0 1\n",
      " 0 0 0 1 2 1 0 2 0 3 0 3 4 0 2 0 1 0 3 1 3 4 4 2 0 3 1 0 3 4 3 2 1 1 4 1 1\n",
      " 1 4 0 3 1 2 2 1 0 1 3 2 1 2 3 1 4 0 3 0 2 1 2 1 1 1 0 1 4 0 2 0 0 4 3 2 1\n",
      " 3 1 0 0 4 3 1 0 2 0 2 4 1 3 4 2 2 1 1 0 4 4 4 3 4 3 4 1 0 0 1 3 0 0 1 4 3\n",
      " 4 2 1 2 3 2 2 3 1 3 1 1 3 4 1 2 0 1 3 1 0 1 0 1 1 2 4 0 1 0 1 2 1 1 0 0 4\n",
      " 2 0 2 4 3 0 0 3 2 4 1 1 0 2 0 0 1 4 0 0 1 1 3 2 0 0 0 0 1 1 1 3 1 4 1 3 3\n",
      " 0 1 3 4 0 0 3 4 0 0 4 4 1 1 2 4 4 3 3 2 1 2 1 1 1 3 2 1 1 3 4 2 4 4 2 0 4\n",
      " 4 1 0 0 4 3 0 3 1 4 1 1 2 1 3 1 2 2 3 0 0 2 1 3 0 0 0 0 1 2 1 4 2 1 2 1 2\n",
      " 3 1 1 2 2 1 2 0 0 3 3 1 1 1 4 4 4 4 2 2 3 3 4 1 1 4 4 3 3 1 0 1 1 2 0 4 3\n",
      " 2 1 1 1 1 2 2 2 4 3 0 2 0 0 3 0 1 2 3 3 0 1 3 1 1 4 0 3 1 1 1 4 1 2 3 4 1\n",
      " 0 0 4 0 1 1 2 3 4 1 2 1 0 4 1 1 0 1 2 0 4 3 0 1 3 1 3 1 3 0 2 3 4 1 0 2 1\n",
      " 3 3 1 1 2 4 0 0 4 1 1 2 3 3 1 0 1 1 1 3 0 1 1 1 1 2 2 4 0 4 3 2 4 2 3 4 2\n",
      " 0 0 4 1 1 2 4 1 1 1 1 2 1 3 1 1 0 1 0 2 0 3 1 0 1 4 1 1 0 3 0 1 1 4 4 0 0\n",
      " 3 1 1 1 0 1 4 0 3 1 3 1 1 1 2 2 2 3 1 0 1 1 0 3 0 0 2 4 3 1 2 1 1 3 2 0 3\n",
      " 0 0 1 3 4 3 3 0 1 4 2 4 0 4 0 3 1 1 4 1 0 0 3 4 0 4 1 0 3 4 4 4 4 1 3 0 3\n",
      " 0 1 1 2 2 3 1 1 2 2 1 3 0 2 2 0 1 3 0 1 1 2 2 1 0 2 1 0 2 3 2 0 0 3 0 0 3\n",
      " 2 2 2 4 2 2 0 0 3 2 1 4 4 1 2 0 4 3 1 1 2 2 0 1 1 4 4 4 4 1 1 0 1 1 4 4 3\n",
      " 0 3 0 0 1 0 2 1 2 2 3 2 3 1 1 2 0 1 0 3 1 0 4 1 4 0 1 1 0 1 1 3 2 3 2 1 4\n",
      " 0 1 3 3 2 1 3 1 0 1 4 4 4 2 0 0 4 0 1 2 4 4 1 0 1 4 3 2 0 4 1 1 0 1 4 4 2\n",
      " 2 0 1 3 1 4 2 4 1 1 4 0 0 0 0 0 4 0 3 3 3 3 1 3 0 4 2 0 4 4 2 0 1 1 3 2 4\n",
      " 3 2 3 3 0 0 3 1 3 3 1 3 0 1 4 4 1 0]\n"
     ]
    }
   ],
   "source": [
    "from sklearn.cluster import AgglomerativeClustering\n",
    "\n",
    "hc = AgglomerativeClustering(n_clusters=5, affinity='euclidean', linkage='ward')\n",
    "y_hc = hc.fit_predict(X2)\n",
    "print(y_hc)"
   ]
  }
 ],
 "metadata": {
  "kernelspec": {
   "display_name": "Python 3",
   "language": "python",
   "name": "python3"
  },
  "language_info": {
   "codemirror_mode": {
    "name": "ipython",
    "version": 3
   },
   "file_extension": ".py",
   "mimetype": "text/x-python",
   "name": "python",
   "nbconvert_exporter": "python",
   "pygments_lexer": "ipython3",
   "version": "3.6.9"
  }
 },
 "nbformat": 4,
 "nbformat_minor": 5
}
